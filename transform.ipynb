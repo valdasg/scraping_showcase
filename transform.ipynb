{
 "cells": [
  {
   "cell_type": "code",
   "execution_count": 1,
   "metadata": {
    "collapsed": true,
    "pycharm": {
     "name": "#%%\n"
    }
   },
   "outputs": [],
   "source": [
    "import pandas as pd\n",
    "import re\n",
    "from funcs import *\n",
    "import numpy as np"
   ]
  },
  {
   "cell_type": "markdown",
   "source": [
    "### Getting data to one df\n",
    "Since all data is structured in a same way all data is concatenated to one frame for further transformation"
   ],
   "metadata": {
    "collapsed": false,
    "pycharm": {
     "name": "#%% md\n"
    }
   }
  },
  {
   "cell_type": "code",
   "execution_count": 2,
   "outputs": [],
   "source": [
    "#df _bankas\n",
    "dfb = pd.read_csv('cvbankas.csv')"
   ],
   "metadata": {
    "collapsed": false,
    "pycharm": {
     "name": "#%%\n"
    }
   }
  },
  {
   "cell_type": "code",
   "execution_count": 3,
   "outputs": [
    {
     "data": {
      "text/plain": "                                               position  \\\n0                                          Virėja (-as)   \n1                         Studijos pamainų vadovas (-ė)   \n2     Pamainos virėjo (-os) - vyr. virėjo (-os) (Net...   \n3                                       Pakuotojas (-a)   \n4                             CARGLASS® Serviso vadovas   \n...                                                 ...   \n9709  PARDAVIMŲ VADYBININKĖ (-AS) VILNIUJE, KLIENTŲ ...   \n9710  Asistentė (-as) tiesioginių transliacijų studi...   \n9711              Klientų aptarnavimo specialistas (-ė)   \n9712  Partnerystės projektų kuratorius Vilniuje (Ter...   \n9713                                  Staklininkas (-ė)   \n\n                              company      city  \\\n0                      UAB „Aramejas“  Klaipėda   \n1                   UAB „TV ŽAIDIMAI“   Vilnius   \n2     UAB „Automatizavimo sprendimai“  Šiauliai   \n3                         UAB „FREDA“    Kaunas   \n4                     UAB „Euroglass“   Vilnius   \n...                               ...       ...   \n9709       UAB „Transinesta“ ECOLINES   Vilnius   \n9710        UAB „Evolution Lithuania“    Kaunas   \n9711         Baltic Classifieds Group   Vilnius   \n9712          AB „LIETUVOS DRAUDIMAS“   Vilnius   \n9713                     UAB „Trukmė“    Kaunas   \n\n                                            description     salary  \\\n0     Restoranui \"PEPPER GREY\" nuolatiniam darbui re...  1000-1500   \n1     „BetGames“ yra interaktyvių, paprastų ir patra...    Nuo 900   \n2     Jau 5 metus gyvuojantis \"CASK 215\" gastropubas...  1400-2300   \n3     Renkami darbuotojai naujai gamybos linijai!,\\r...   Nuo 1600   \n4     Jūsų kaip CARGLASS® serviso vadovo misija – už...  2000-3000   \n...                                                 ...        ...   \n9709  \\r\\nKandidatuok! Kompanija Tavęs laukia!,\\r\\n,...   Nuo 1180   \n9710  Būsim atviri, jokios darbinės patirties mes ne...  4,50-8,50   \n9711  Autoplius.lt - tai didžiausias Lietuvos transp...    700-750   \n9712  Mes – „Lietuvos draudimas“. Esame tie, kuriems...   Nuo 2500   \n9713   rytinė pamaina 5.30 val. - 14.30 val.;,\\r\\n p...  1000-1500   \n\n                payment_way  \\\n0     Neatskaičius mokesčių   \n1                  Į rankas   \n2     Neatskaičius mokesčių   \n3     Neatskaičius mokesčių   \n4     Neatskaičius mokesčių   \n...                     ...   \n9709  Neatskaičius mokesčių   \n9710  Neatskaičius mokesčių   \n9711               Į rankas   \n9712  Neatskaičius mokesčių   \n9713               Į rankas   \n\n                                                   link     source  \n0     https://www.cvbankas.lt/vireja-as-klaipedoje/1...  CV Bankas  \n1     https://www.cvbankas.lt/studijos-pamainu-vadov...  CV Bankas  \n2     https://www.cvbankas.lt/pamainos-virejo-os-vyr...  CV Bankas  \n3     https://www.cvbankas.lt/pakuotojas-a-kaune/1-8...  CV Bankas  \n4     https://www.cvbankas.lt/carglass-serviso-vadov...  CV Bankas  \n...                                                 ...        ...  \n9709  https://www.cvbankas.lt/pardavimu-vadybininke-...  CV Bankas  \n9710  https://www.cvbankas.lt/asistente-as-tiesiogin...  CV Bankas  \n9711  https://www.cvbankas.lt/klientu-aptarnavimo-sp...  CV Bankas  \n9712  https://www.cvbankas.lt/partnerystes-projektu-...  CV Bankas  \n9713  https://www.cvbankas.lt/staklininkas-e-kaune/1...  CV Bankas  \n\n[9714 rows x 8 columns]",
      "text/html": "<div>\n<style scoped>\n    .dataframe tbody tr th:only-of-type {\n        vertical-align: middle;\n    }\n\n    .dataframe tbody tr th {\n        vertical-align: top;\n    }\n\n    .dataframe thead th {\n        text-align: right;\n    }\n</style>\n<table border=\"1\" class=\"dataframe\">\n  <thead>\n    <tr style=\"text-align: right;\">\n      <th></th>\n      <th>position</th>\n      <th>company</th>\n      <th>city</th>\n      <th>description</th>\n      <th>salary</th>\n      <th>payment_way</th>\n      <th>link</th>\n      <th>source</th>\n    </tr>\n  </thead>\n  <tbody>\n    <tr>\n      <th>0</th>\n      <td>Virėja (-as)</td>\n      <td>UAB „Aramejas“</td>\n      <td>Klaipėda</td>\n      <td>Restoranui \"PEPPER GREY\" nuolatiniam darbui re...</td>\n      <td>1000-1500</td>\n      <td>Neatskaičius mokesčių</td>\n      <td>https://www.cvbankas.lt/vireja-as-klaipedoje/1...</td>\n      <td>CV Bankas</td>\n    </tr>\n    <tr>\n      <th>1</th>\n      <td>Studijos pamainų vadovas (-ė)</td>\n      <td>UAB „TV ŽAIDIMAI“</td>\n      <td>Vilnius</td>\n      <td>„BetGames“ yra interaktyvių, paprastų ir patra...</td>\n      <td>Nuo 900</td>\n      <td>Į rankas</td>\n      <td>https://www.cvbankas.lt/studijos-pamainu-vadov...</td>\n      <td>CV Bankas</td>\n    </tr>\n    <tr>\n      <th>2</th>\n      <td>Pamainos virėjo (-os) - vyr. virėjo (-os) (Net...</td>\n      <td>UAB „Automatizavimo sprendimai“</td>\n      <td>Šiauliai</td>\n      <td>Jau 5 metus gyvuojantis \"CASK 215\" gastropubas...</td>\n      <td>1400-2300</td>\n      <td>Neatskaičius mokesčių</td>\n      <td>https://www.cvbankas.lt/pamainos-virejo-os-vyr...</td>\n      <td>CV Bankas</td>\n    </tr>\n    <tr>\n      <th>3</th>\n      <td>Pakuotojas (-a)</td>\n      <td>UAB „FREDA“</td>\n      <td>Kaunas</td>\n      <td>Renkami darbuotojai naujai gamybos linijai!,\\r...</td>\n      <td>Nuo 1600</td>\n      <td>Neatskaičius mokesčių</td>\n      <td>https://www.cvbankas.lt/pakuotojas-a-kaune/1-8...</td>\n      <td>CV Bankas</td>\n    </tr>\n    <tr>\n      <th>4</th>\n      <td>CARGLASS® Serviso vadovas</td>\n      <td>UAB „Euroglass“</td>\n      <td>Vilnius</td>\n      <td>Jūsų kaip CARGLASS® serviso vadovo misija – už...</td>\n      <td>2000-3000</td>\n      <td>Neatskaičius mokesčių</td>\n      <td>https://www.cvbankas.lt/carglass-serviso-vadov...</td>\n      <td>CV Bankas</td>\n    </tr>\n    <tr>\n      <th>...</th>\n      <td>...</td>\n      <td>...</td>\n      <td>...</td>\n      <td>...</td>\n      <td>...</td>\n      <td>...</td>\n      <td>...</td>\n      <td>...</td>\n    </tr>\n    <tr>\n      <th>9709</th>\n      <td>PARDAVIMŲ VADYBININKĖ (-AS) VILNIUJE, KLIENTŲ ...</td>\n      <td>UAB „Transinesta“ ECOLINES</td>\n      <td>Vilnius</td>\n      <td>\\r\\nKandidatuok! Kompanija Tavęs laukia!,\\r\\n,...</td>\n      <td>Nuo 1180</td>\n      <td>Neatskaičius mokesčių</td>\n      <td>https://www.cvbankas.lt/pardavimu-vadybininke-...</td>\n      <td>CV Bankas</td>\n    </tr>\n    <tr>\n      <th>9710</th>\n      <td>Asistentė (-as) tiesioginių transliacijų studi...</td>\n      <td>UAB „Evolution Lithuania“</td>\n      <td>Kaunas</td>\n      <td>Būsim atviri, jokios darbinės patirties mes ne...</td>\n      <td>4,50-8,50</td>\n      <td>Neatskaičius mokesčių</td>\n      <td>https://www.cvbankas.lt/asistente-as-tiesiogin...</td>\n      <td>CV Bankas</td>\n    </tr>\n    <tr>\n      <th>9711</th>\n      <td>Klientų aptarnavimo specialistas (-ė)</td>\n      <td>Baltic Classifieds Group</td>\n      <td>Vilnius</td>\n      <td>Autoplius.lt - tai didžiausias Lietuvos transp...</td>\n      <td>700-750</td>\n      <td>Į rankas</td>\n      <td>https://www.cvbankas.lt/klientu-aptarnavimo-sp...</td>\n      <td>CV Bankas</td>\n    </tr>\n    <tr>\n      <th>9712</th>\n      <td>Partnerystės projektų kuratorius Vilniuje (Ter...</td>\n      <td>AB „LIETUVOS DRAUDIMAS“</td>\n      <td>Vilnius</td>\n      <td>Mes – „Lietuvos draudimas“. Esame tie, kuriems...</td>\n      <td>Nuo 2500</td>\n      <td>Neatskaičius mokesčių</td>\n      <td>https://www.cvbankas.lt/partnerystes-projektu-...</td>\n      <td>CV Bankas</td>\n    </tr>\n    <tr>\n      <th>9713</th>\n      <td>Staklininkas (-ė)</td>\n      <td>UAB „Trukmė“</td>\n      <td>Kaunas</td>\n      <td>rytinė pamaina 5.30 val. - 14.30 val.;,\\r\\n p...</td>\n      <td>1000-1500</td>\n      <td>Į rankas</td>\n      <td>https://www.cvbankas.lt/staklininkas-e-kaune/1...</td>\n      <td>CV Bankas</td>\n    </tr>\n  </tbody>\n</table>\n<p>9714 rows × 8 columns</p>\n</div>"
     },
     "execution_count": 3,
     "metadata": {},
     "output_type": "execute_result"
    }
   ],
   "source": [
    "dfb"
   ],
   "metadata": {
    "collapsed": false,
    "pycharm": {
     "name": "#%%\n"
    }
   }
  },
  {
   "cell_type": "code",
   "execution_count": 4,
   "outputs": [],
   "source": [
    "#df _market\n",
    "dfm = pd.read_csv('cvmarket.csv')"
   ],
   "metadata": {
    "collapsed": false,
    "pycharm": {
     "name": "#%%\n"
    }
   }
  },
  {
   "cell_type": "code",
   "execution_count": 5,
   "outputs": [
    {
     "data": {
      "text/plain": "                                                position              company  \\\n0                                  Administratorius (-ė)          UAB „Biuro“   \n1      PARDAVIMŲ VADYBININKAS (-Ė)  (El. komercijos p...          Nefelė, UAB   \n2      MAISTO GAMYBOS TECHNOLOGO (aukščiausios kokybė...  PERSONALO AKADEMIJA   \n3                              KLIENTŲ VADYBININKAS (-Ė)          Nefelė, UAB   \n4                                             Accountant      Kilo grupė, UAB   \n...                                                  ...                  ...   \n30564  Pakuotojai - krovėjai baldų gamybos įmonėje | ...          UAB „Biuro“   \n30565      Darbuotojai elektronikos komponentų sandėlyje          UAB „Biuro“   \n30566                        PAGALBINIS DARBININKAS (-Ė)           JUGUM, UAB   \n30567  MAISTO GAMYBOS TECHNOLOGO (aukščiausios kokybė...  PERSONALO AKADEMIJA   \n30568                                  Stalius - dailidė          UAB „Biuro“   \n\n            city                                        description  \\\n0        Vilnius  \\n                            ,\\n             ...   \n1        Vilnius  \\n                            ,\\n             ...   \n2      Anykščiai  \\n                            ,\\n             ...   \n3        Vilnius  \\n                            ,\\n             ...   \n4        Vilnius  \\n                            ,\\n             ...   \n...          ...                                                ...   \n30564     Kaunas  \\n                            ,\\n             ...   \n30565     Kaunas  \\n                            ,\\n             ...   \n30566    Vilnius  \\n                            ,\\n             ...   \n30567     Biržai  \\n                            ,\\n             ...   \n30568      Utena  \\n                            ,\\n             ...   \n\n            salary            payment_way  \\\n0             1400  Neatskaičius mokesčių   \n1             1500               Į rankas   \n2      1200 - 1400               Į rankas   \n3      1300 - 1500  Neatskaičius mokesčių   \n4       950 - 1500             Before tax   \n...            ...                    ...   \n30564    650 - 750               Į rankas   \n30565          826               Į rankas   \n30566          650               Į rankas   \n30567  1200 - 1400               Į rankas   \n30568         1000               Į rankas   \n\n                                                    link     source  \n0      https://www.cvmarket.lt/administratorius-e-vil...  CV Market  \n1      https://www.cvmarket.lt/pardavimu-vadybininkas...  CV Market  \n2      https://www.cvmarket.lt/maisto-gamybos-technol...  CV Market  \n3      https://www.cvmarket.lt/klientu-vadybininkas-e...  CV Market  \n4      https://www.cvmarket.lt/accountant-vilnius-kil...  CV Market  \n...                                                  ...        ...  \n30564  https://www.cvmarket.lt/pakuotojai-krovejai-ba...  CV Market  \n30565  https://www.cvmarket.lt/darbuotojai-elektronik...  CV Market  \n30566  https://www.cvmarket.lt/pagalbinis-darbininkas...  CV Market  \n30567  https://www.cvmarket.lt/maisto-gamybos-technol...  CV Market  \n30568  https://www.cvmarket.lt/stalius-dailide-utena-...  CV Market  \n\n[30569 rows x 8 columns]",
      "text/html": "<div>\n<style scoped>\n    .dataframe tbody tr th:only-of-type {\n        vertical-align: middle;\n    }\n\n    .dataframe tbody tr th {\n        vertical-align: top;\n    }\n\n    .dataframe thead th {\n        text-align: right;\n    }\n</style>\n<table border=\"1\" class=\"dataframe\">\n  <thead>\n    <tr style=\"text-align: right;\">\n      <th></th>\n      <th>position</th>\n      <th>company</th>\n      <th>city</th>\n      <th>description</th>\n      <th>salary</th>\n      <th>payment_way</th>\n      <th>link</th>\n      <th>source</th>\n    </tr>\n  </thead>\n  <tbody>\n    <tr>\n      <th>0</th>\n      <td>Administratorius (-ė)</td>\n      <td>UAB „Biuro“</td>\n      <td>Vilnius</td>\n      <td>\\n                            ,\\n             ...</td>\n      <td>1400</td>\n      <td>Neatskaičius mokesčių</td>\n      <td>https://www.cvmarket.lt/administratorius-e-vil...</td>\n      <td>CV Market</td>\n    </tr>\n    <tr>\n      <th>1</th>\n      <td>PARDAVIMŲ VADYBININKAS (-Ė)  (El. komercijos p...</td>\n      <td>Nefelė, UAB</td>\n      <td>Vilnius</td>\n      <td>\\n                            ,\\n             ...</td>\n      <td>1500</td>\n      <td>Į rankas</td>\n      <td>https://www.cvmarket.lt/pardavimu-vadybininkas...</td>\n      <td>CV Market</td>\n    </tr>\n    <tr>\n      <th>2</th>\n      <td>MAISTO GAMYBOS TECHNOLOGO (aukščiausios kokybė...</td>\n      <td>PERSONALO AKADEMIJA</td>\n      <td>Anykščiai</td>\n      <td>\\n                            ,\\n             ...</td>\n      <td>1200 - 1400</td>\n      <td>Į rankas</td>\n      <td>https://www.cvmarket.lt/maisto-gamybos-technol...</td>\n      <td>CV Market</td>\n    </tr>\n    <tr>\n      <th>3</th>\n      <td>KLIENTŲ VADYBININKAS (-Ė)</td>\n      <td>Nefelė, UAB</td>\n      <td>Vilnius</td>\n      <td>\\n                            ,\\n             ...</td>\n      <td>1300 - 1500</td>\n      <td>Neatskaičius mokesčių</td>\n      <td>https://www.cvmarket.lt/klientu-vadybininkas-e...</td>\n      <td>CV Market</td>\n    </tr>\n    <tr>\n      <th>4</th>\n      <td>Accountant</td>\n      <td>Kilo grupė, UAB</td>\n      <td>Vilnius</td>\n      <td>\\n                            ,\\n             ...</td>\n      <td>950 - 1500</td>\n      <td>Before tax</td>\n      <td>https://www.cvmarket.lt/accountant-vilnius-kil...</td>\n      <td>CV Market</td>\n    </tr>\n    <tr>\n      <th>...</th>\n      <td>...</td>\n      <td>...</td>\n      <td>...</td>\n      <td>...</td>\n      <td>...</td>\n      <td>...</td>\n      <td>...</td>\n      <td>...</td>\n    </tr>\n    <tr>\n      <th>30564</th>\n      <td>Pakuotojai - krovėjai baldų gamybos įmonėje | ...</td>\n      <td>UAB „Biuro“</td>\n      <td>Kaunas</td>\n      <td>\\n                            ,\\n             ...</td>\n      <td>650 - 750</td>\n      <td>Į rankas</td>\n      <td>https://www.cvmarket.lt/pakuotojai-krovejai-ba...</td>\n      <td>CV Market</td>\n    </tr>\n    <tr>\n      <th>30565</th>\n      <td>Darbuotojai elektronikos komponentų sandėlyje</td>\n      <td>UAB „Biuro“</td>\n      <td>Kaunas</td>\n      <td>\\n                            ,\\n             ...</td>\n      <td>826</td>\n      <td>Į rankas</td>\n      <td>https://www.cvmarket.lt/darbuotojai-elektronik...</td>\n      <td>CV Market</td>\n    </tr>\n    <tr>\n      <th>30566</th>\n      <td>PAGALBINIS DARBININKAS (-Ė)</td>\n      <td>JUGUM, UAB</td>\n      <td>Vilnius</td>\n      <td>\\n                            ,\\n             ...</td>\n      <td>650</td>\n      <td>Į rankas</td>\n      <td>https://www.cvmarket.lt/pagalbinis-darbininkas...</td>\n      <td>CV Market</td>\n    </tr>\n    <tr>\n      <th>30567</th>\n      <td>MAISTO GAMYBOS TECHNOLOGO (aukščiausios kokybė...</td>\n      <td>PERSONALO AKADEMIJA</td>\n      <td>Biržai</td>\n      <td>\\n                            ,\\n             ...</td>\n      <td>1200 - 1400</td>\n      <td>Į rankas</td>\n      <td>https://www.cvmarket.lt/maisto-gamybos-technol...</td>\n      <td>CV Market</td>\n    </tr>\n    <tr>\n      <th>30568</th>\n      <td>Stalius - dailidė</td>\n      <td>UAB „Biuro“</td>\n      <td>Utena</td>\n      <td>\\n                            ,\\n             ...</td>\n      <td>1000</td>\n      <td>Į rankas</td>\n      <td>https://www.cvmarket.lt/stalius-dailide-utena-...</td>\n      <td>CV Market</td>\n    </tr>\n  </tbody>\n</table>\n<p>30569 rows × 8 columns</p>\n</div>"
     },
     "execution_count": 5,
     "metadata": {},
     "output_type": "execute_result"
    }
   ],
   "source": [
    "dfm"
   ],
   "metadata": {
    "collapsed": false,
    "pycharm": {
     "name": "#%%\n"
    }
   }
  },
  {
   "cell_type": "code",
   "execution_count": 6,
   "outputs": [],
   "source": [
    "#df _online\n",
    "dfo = pd.read_csv('C:/Users/valda/Documents/Python/AdvancedPytthon/Scapingproject/cv_online/cvonline.csv')"
   ],
   "metadata": {
    "collapsed": false,
    "pycharm": {
     "name": "#%%\n"
    }
   }
  },
  {
   "cell_type": "code",
   "execution_count": 7,
   "outputs": [
    {
     "data": {
      "text/plain": "                                               position  \\\n0     JAUNESNYSIS PROJEKTŲ KOORDINATORIUS (NUOTOLINI...   \n1     Personalo atrankų specialistas (KETURIŲ darbo ...   \n2     Personalo atrankų specialistas (KETURIŲ darbo ...   \n3                    INŽINIERIUS  - KONSTRUKTORIUS (-Ė)   \n4                           Accounts Payable Accountant   \n...                                                 ...   \n5316  Client Support Specialist for Electronic Banki...   \n5317  Client Service Manager in Cash Management at S...   \n5318        French Speaking Customer Service Specialist   \n5319              French Speaking Transport Coordinator   \n5320                Head of Customer Success Department   \n\n                           company     city  description         salary  \\\n0                   Synergium, UAB  Vilnius          NaN  € 1750 – 2200   \n1                   Synergium, UAB   Kaunas          NaN  € 1400 – 2000   \n2                   Synergium, UAB  Vilnius          NaN  € 1400 – 2000   \n3     Projektų rengimo biuras, UAB  Vilnius          NaN  € 2500 – 4900   \n4                Telia Lietuva, AB  Vilnius          NaN              0   \n...                            ...      ...          ...            ...   \n5316           SEB Global Services  Vilnius          NaN  € 1800 – 2700   \n5317           SEB Global Services  Vilnius          NaN  € 2200 – 3200   \n5318      Alliance for Recruitment  Vilnius          NaN         € 1200   \n5319      Alliance for Recruitment  Vilnius          NaN         € 1452   \n5320      Alliance for Recruitment  Vilnius          NaN         € 2975   \n\n                payment_way  \\\n0     Neatskaičius mokesčių   \n1     Neatskaičius mokesčių   \n2     Neatskaičius mokesčių   \n3     Neatskaičius mokesčių   \n4     Neatskaičius mokesčių   \n...                     ...   \n5316  Neatskaičius mokesčių   \n5317  Neatskaičius mokesčių   \n5318  Neatskaičius mokesčių   \n5319  Neatskaičius mokesčių   \n5320  Neatskaičius mokesčių   \n\n                                                   link     source  \n0     https://www.cvonline.lt/lt/vacancy/748948/syne...  CV Online  \n1     https://www.cvonline.lt/lt/vacancy/748947/syne...  CV Online  \n2     https://www.cvonline.lt/lt/vacancy/748946/syne...  CV Online  \n3     https://www.cvonline.lt/lt/vacancy/748929/proj...  CV Online  \n4     https://www.cvonline.lt/lt/vacancy/748928/teli...  CV Online  \n...                                                 ...        ...  \n5316  https://www.cvonline.lt/lt/vacancy/511041/seb-...  CV Online  \n5317  https://www.cvonline.lt/lt/vacancy/511036/seb-...  CV Online  \n5318  https://www.cvonline.lt/lt/vacancy/509050/alli...  CV Online  \n5319  https://www.cvonline.lt/lt/vacancy/471236/alli...  CV Online  \n5320  https://www.cvonline.lt/lt/vacancy/471041/alli...  CV Online  \n\n[5321 rows x 8 columns]",
      "text/html": "<div>\n<style scoped>\n    .dataframe tbody tr th:only-of-type {\n        vertical-align: middle;\n    }\n\n    .dataframe tbody tr th {\n        vertical-align: top;\n    }\n\n    .dataframe thead th {\n        text-align: right;\n    }\n</style>\n<table border=\"1\" class=\"dataframe\">\n  <thead>\n    <tr style=\"text-align: right;\">\n      <th></th>\n      <th>position</th>\n      <th>company</th>\n      <th>city</th>\n      <th>description</th>\n      <th>salary</th>\n      <th>payment_way</th>\n      <th>link</th>\n      <th>source</th>\n    </tr>\n  </thead>\n  <tbody>\n    <tr>\n      <th>0</th>\n      <td>JAUNESNYSIS PROJEKTŲ KOORDINATORIUS (NUOTOLINI...</td>\n      <td>Synergium, UAB</td>\n      <td>Vilnius</td>\n      <td>NaN</td>\n      <td>€ 1750 – 2200</td>\n      <td>Neatskaičius mokesčių</td>\n      <td>https://www.cvonline.lt/lt/vacancy/748948/syne...</td>\n      <td>CV Online</td>\n    </tr>\n    <tr>\n      <th>1</th>\n      <td>Personalo atrankų specialistas (KETURIŲ darbo ...</td>\n      <td>Synergium, UAB</td>\n      <td>Kaunas</td>\n      <td>NaN</td>\n      <td>€ 1400 – 2000</td>\n      <td>Neatskaičius mokesčių</td>\n      <td>https://www.cvonline.lt/lt/vacancy/748947/syne...</td>\n      <td>CV Online</td>\n    </tr>\n    <tr>\n      <th>2</th>\n      <td>Personalo atrankų specialistas (KETURIŲ darbo ...</td>\n      <td>Synergium, UAB</td>\n      <td>Vilnius</td>\n      <td>NaN</td>\n      <td>€ 1400 – 2000</td>\n      <td>Neatskaičius mokesčių</td>\n      <td>https://www.cvonline.lt/lt/vacancy/748946/syne...</td>\n      <td>CV Online</td>\n    </tr>\n    <tr>\n      <th>3</th>\n      <td>INŽINIERIUS  - KONSTRUKTORIUS (-Ė)</td>\n      <td>Projektų rengimo biuras, UAB</td>\n      <td>Vilnius</td>\n      <td>NaN</td>\n      <td>€ 2500 – 4900</td>\n      <td>Neatskaičius mokesčių</td>\n      <td>https://www.cvonline.lt/lt/vacancy/748929/proj...</td>\n      <td>CV Online</td>\n    </tr>\n    <tr>\n      <th>4</th>\n      <td>Accounts Payable Accountant</td>\n      <td>Telia Lietuva, AB</td>\n      <td>Vilnius</td>\n      <td>NaN</td>\n      <td>0</td>\n      <td>Neatskaičius mokesčių</td>\n      <td>https://www.cvonline.lt/lt/vacancy/748928/teli...</td>\n      <td>CV Online</td>\n    </tr>\n    <tr>\n      <th>...</th>\n      <td>...</td>\n      <td>...</td>\n      <td>...</td>\n      <td>...</td>\n      <td>...</td>\n      <td>...</td>\n      <td>...</td>\n      <td>...</td>\n    </tr>\n    <tr>\n      <th>5316</th>\n      <td>Client Support Specialist for Electronic Banki...</td>\n      <td>SEB Global Services</td>\n      <td>Vilnius</td>\n      <td>NaN</td>\n      <td>€ 1800 – 2700</td>\n      <td>Neatskaičius mokesčių</td>\n      <td>https://www.cvonline.lt/lt/vacancy/511041/seb-...</td>\n      <td>CV Online</td>\n    </tr>\n    <tr>\n      <th>5317</th>\n      <td>Client Service Manager in Cash Management at S...</td>\n      <td>SEB Global Services</td>\n      <td>Vilnius</td>\n      <td>NaN</td>\n      <td>€ 2200 – 3200</td>\n      <td>Neatskaičius mokesčių</td>\n      <td>https://www.cvonline.lt/lt/vacancy/511036/seb-...</td>\n      <td>CV Online</td>\n    </tr>\n    <tr>\n      <th>5318</th>\n      <td>French Speaking Customer Service Specialist</td>\n      <td>Alliance for Recruitment</td>\n      <td>Vilnius</td>\n      <td>NaN</td>\n      <td>€ 1200</td>\n      <td>Neatskaičius mokesčių</td>\n      <td>https://www.cvonline.lt/lt/vacancy/509050/alli...</td>\n      <td>CV Online</td>\n    </tr>\n    <tr>\n      <th>5319</th>\n      <td>French Speaking Transport Coordinator</td>\n      <td>Alliance for Recruitment</td>\n      <td>Vilnius</td>\n      <td>NaN</td>\n      <td>€ 1452</td>\n      <td>Neatskaičius mokesčių</td>\n      <td>https://www.cvonline.lt/lt/vacancy/471236/alli...</td>\n      <td>CV Online</td>\n    </tr>\n    <tr>\n      <th>5320</th>\n      <td>Head of Customer Success Department</td>\n      <td>Alliance for Recruitment</td>\n      <td>Vilnius</td>\n      <td>NaN</td>\n      <td>€ 2975</td>\n      <td>Neatskaičius mokesčių</td>\n      <td>https://www.cvonline.lt/lt/vacancy/471041/alli...</td>\n      <td>CV Online</td>\n    </tr>\n  </tbody>\n</table>\n<p>5321 rows × 8 columns</p>\n</div>"
     },
     "execution_count": 7,
     "metadata": {},
     "output_type": "execute_result"
    }
   ],
   "source": [
    "dfo"
   ],
   "metadata": {
    "collapsed": false,
    "pycharm": {
     "name": "#%%\n"
    }
   }
  },
  {
   "cell_type": "code",
   "execution_count": 8,
   "outputs": [
    {
     "data": {
      "text/plain": "                                               position  \\\n0                                          Virėja (-as)   \n1                         Studijos pamainų vadovas (-ė)   \n2     Pamainos virėjo (-os) - vyr. virėjo (-os) (Net...   \n3                                       Pakuotojas (-a)   \n4                             CARGLASS® Serviso vadovas   \n...                                                 ...   \n5316  Client Support Specialist for Electronic Banki...   \n5317  Client Service Manager in Cash Management at S...   \n5318        French Speaking Customer Service Specialist   \n5319              French Speaking Transport Coordinator   \n5320                Head of Customer Success Department   \n\n                              company      city  \\\n0                      UAB „Aramejas“  Klaipėda   \n1                   UAB „TV ŽAIDIMAI“   Vilnius   \n2     UAB „Automatizavimo sprendimai“  Šiauliai   \n3                         UAB „FREDA“    Kaunas   \n4                     UAB „Euroglass“   Vilnius   \n...                               ...       ...   \n5316              SEB Global Services   Vilnius   \n5317              SEB Global Services   Vilnius   \n5318         Alliance for Recruitment   Vilnius   \n5319         Alliance for Recruitment   Vilnius   \n5320         Alliance for Recruitment   Vilnius   \n\n                                            description         salary  \\\n0     Restoranui \"PEPPER GREY\" nuolatiniam darbui re...      1000-1500   \n1     „BetGames“ yra interaktyvių, paprastų ir patra...        Nuo 900   \n2     Jau 5 metus gyvuojantis \"CASK 215\" gastropubas...      1400-2300   \n3     Renkami darbuotojai naujai gamybos linijai!,\\r...       Nuo 1600   \n4     Jūsų kaip CARGLASS® serviso vadovo misija – už...      2000-3000   \n...                                                 ...            ...   \n5316                                                NaN  € 1800 – 2700   \n5317                                                NaN  € 2200 – 3200   \n5318                                                NaN         € 1200   \n5319                                                NaN         € 1452   \n5320                                                NaN         € 2975   \n\n                payment_way  \\\n0     Neatskaičius mokesčių   \n1                  Į rankas   \n2     Neatskaičius mokesčių   \n3     Neatskaičius mokesčių   \n4     Neatskaičius mokesčių   \n...                     ...   \n5316  Neatskaičius mokesčių   \n5317  Neatskaičius mokesčių   \n5318  Neatskaičius mokesčių   \n5319  Neatskaičius mokesčių   \n5320  Neatskaičius mokesčių   \n\n                                                   link     source  \n0     https://www.cvbankas.lt/vireja-as-klaipedoje/1...  CV Bankas  \n1     https://www.cvbankas.lt/studijos-pamainu-vadov...  CV Bankas  \n2     https://www.cvbankas.lt/pamainos-virejo-os-vyr...  CV Bankas  \n3     https://www.cvbankas.lt/pakuotojas-a-kaune/1-8...  CV Bankas  \n4     https://www.cvbankas.lt/carglass-serviso-vadov...  CV Bankas  \n...                                                 ...        ...  \n5316  https://www.cvonline.lt/lt/vacancy/511041/seb-...  CV Online  \n5317  https://www.cvonline.lt/lt/vacancy/511036/seb-...  CV Online  \n5318  https://www.cvonline.lt/lt/vacancy/509050/alli...  CV Online  \n5319  https://www.cvonline.lt/lt/vacancy/471236/alli...  CV Online  \n5320  https://www.cvonline.lt/lt/vacancy/471041/alli...  CV Online  \n\n[45604 rows x 8 columns]",
      "text/html": "<div>\n<style scoped>\n    .dataframe tbody tr th:only-of-type {\n        vertical-align: middle;\n    }\n\n    .dataframe tbody tr th {\n        vertical-align: top;\n    }\n\n    .dataframe thead th {\n        text-align: right;\n    }\n</style>\n<table border=\"1\" class=\"dataframe\">\n  <thead>\n    <tr style=\"text-align: right;\">\n      <th></th>\n      <th>position</th>\n      <th>company</th>\n      <th>city</th>\n      <th>description</th>\n      <th>salary</th>\n      <th>payment_way</th>\n      <th>link</th>\n      <th>source</th>\n    </tr>\n  </thead>\n  <tbody>\n    <tr>\n      <th>0</th>\n      <td>Virėja (-as)</td>\n      <td>UAB „Aramejas“</td>\n      <td>Klaipėda</td>\n      <td>Restoranui \"PEPPER GREY\" nuolatiniam darbui re...</td>\n      <td>1000-1500</td>\n      <td>Neatskaičius mokesčių</td>\n      <td>https://www.cvbankas.lt/vireja-as-klaipedoje/1...</td>\n      <td>CV Bankas</td>\n    </tr>\n    <tr>\n      <th>1</th>\n      <td>Studijos pamainų vadovas (-ė)</td>\n      <td>UAB „TV ŽAIDIMAI“</td>\n      <td>Vilnius</td>\n      <td>„BetGames“ yra interaktyvių, paprastų ir patra...</td>\n      <td>Nuo 900</td>\n      <td>Į rankas</td>\n      <td>https://www.cvbankas.lt/studijos-pamainu-vadov...</td>\n      <td>CV Bankas</td>\n    </tr>\n    <tr>\n      <th>2</th>\n      <td>Pamainos virėjo (-os) - vyr. virėjo (-os) (Net...</td>\n      <td>UAB „Automatizavimo sprendimai“</td>\n      <td>Šiauliai</td>\n      <td>Jau 5 metus gyvuojantis \"CASK 215\" gastropubas...</td>\n      <td>1400-2300</td>\n      <td>Neatskaičius mokesčių</td>\n      <td>https://www.cvbankas.lt/pamainos-virejo-os-vyr...</td>\n      <td>CV Bankas</td>\n    </tr>\n    <tr>\n      <th>3</th>\n      <td>Pakuotojas (-a)</td>\n      <td>UAB „FREDA“</td>\n      <td>Kaunas</td>\n      <td>Renkami darbuotojai naujai gamybos linijai!,\\r...</td>\n      <td>Nuo 1600</td>\n      <td>Neatskaičius mokesčių</td>\n      <td>https://www.cvbankas.lt/pakuotojas-a-kaune/1-8...</td>\n      <td>CV Bankas</td>\n    </tr>\n    <tr>\n      <th>4</th>\n      <td>CARGLASS® Serviso vadovas</td>\n      <td>UAB „Euroglass“</td>\n      <td>Vilnius</td>\n      <td>Jūsų kaip CARGLASS® serviso vadovo misija – už...</td>\n      <td>2000-3000</td>\n      <td>Neatskaičius mokesčių</td>\n      <td>https://www.cvbankas.lt/carglass-serviso-vadov...</td>\n      <td>CV Bankas</td>\n    </tr>\n    <tr>\n      <th>...</th>\n      <td>...</td>\n      <td>...</td>\n      <td>...</td>\n      <td>...</td>\n      <td>...</td>\n      <td>...</td>\n      <td>...</td>\n      <td>...</td>\n    </tr>\n    <tr>\n      <th>5316</th>\n      <td>Client Support Specialist for Electronic Banki...</td>\n      <td>SEB Global Services</td>\n      <td>Vilnius</td>\n      <td>NaN</td>\n      <td>€ 1800 – 2700</td>\n      <td>Neatskaičius mokesčių</td>\n      <td>https://www.cvonline.lt/lt/vacancy/511041/seb-...</td>\n      <td>CV Online</td>\n    </tr>\n    <tr>\n      <th>5317</th>\n      <td>Client Service Manager in Cash Management at S...</td>\n      <td>SEB Global Services</td>\n      <td>Vilnius</td>\n      <td>NaN</td>\n      <td>€ 2200 – 3200</td>\n      <td>Neatskaičius mokesčių</td>\n      <td>https://www.cvonline.lt/lt/vacancy/511036/seb-...</td>\n      <td>CV Online</td>\n    </tr>\n    <tr>\n      <th>5318</th>\n      <td>French Speaking Customer Service Specialist</td>\n      <td>Alliance for Recruitment</td>\n      <td>Vilnius</td>\n      <td>NaN</td>\n      <td>€ 1200</td>\n      <td>Neatskaičius mokesčių</td>\n      <td>https://www.cvonline.lt/lt/vacancy/509050/alli...</td>\n      <td>CV Online</td>\n    </tr>\n    <tr>\n      <th>5319</th>\n      <td>French Speaking Transport Coordinator</td>\n      <td>Alliance for Recruitment</td>\n      <td>Vilnius</td>\n      <td>NaN</td>\n      <td>€ 1452</td>\n      <td>Neatskaičius mokesčių</td>\n      <td>https://www.cvonline.lt/lt/vacancy/471236/alli...</td>\n      <td>CV Online</td>\n    </tr>\n    <tr>\n      <th>5320</th>\n      <td>Head of Customer Success Department</td>\n      <td>Alliance for Recruitment</td>\n      <td>Vilnius</td>\n      <td>NaN</td>\n      <td>€ 2975</td>\n      <td>Neatskaičius mokesčių</td>\n      <td>https://www.cvonline.lt/lt/vacancy/471041/alli...</td>\n      <td>CV Online</td>\n    </tr>\n  </tbody>\n</table>\n<p>45604 rows × 8 columns</p>\n</div>"
     },
     "execution_count": 8,
     "metadata": {},
     "output_type": "execute_result"
    }
   ],
   "source": [
    "#Concatanating all data to one df\n",
    "frames = [dfb, dfm, dfo]\n",
    "dft = pd.concat(frames)\n",
    "dft"
   ],
   "metadata": {
    "collapsed": false,
    "pycharm": {
     "name": "#%%\n"
    }
   }
  },
  {
   "cell_type": "markdown",
   "source": [
    "After looking through data, I can see now that most of the jobs that were posted from outside country does not contain useful data. I will drop those lines."
   ],
   "metadata": {
    "collapsed": false,
    "pycharm": {
     "name": "#%% md\n"
    }
   }
  },
  {
   "cell_type": "code",
   "execution_count": 9,
   "outputs": [
    {
     "data": {
      "text/plain": "                                               position  \\\n0                                          Virėja (-as)   \n1                         Studijos pamainų vadovas (-ė)   \n2     Pamainos virėjo (-os) - vyr. virėjo (-os) (Net...   \n3                                       Pakuotojas (-a)   \n4                             CARGLASS® Serviso vadovas   \n...                                                 ...   \n5316  Client Support Specialist for Electronic Banki...   \n5317  Client Service Manager in Cash Management at S...   \n5318        French Speaking Customer Service Specialist   \n5319              French Speaking Transport Coordinator   \n5320                Head of Customer Success Department   \n\n                              company      city  \\\n0                      UAB „Aramejas“  Klaipėda   \n1                   UAB „TV ŽAIDIMAI“   Vilnius   \n2     UAB „Automatizavimo sprendimai“  Šiauliai   \n3                         UAB „FREDA“    Kaunas   \n4                     UAB „Euroglass“   Vilnius   \n...                               ...       ...   \n5316              SEB Global Services   Vilnius   \n5317              SEB Global Services   Vilnius   \n5318         Alliance for Recruitment   Vilnius   \n5319         Alliance for Recruitment   Vilnius   \n5320         Alliance for Recruitment   Vilnius   \n\n                                            description         salary  \\\n0     Restoranui \"PEPPER GREY\" nuolatiniam darbui re...      1000-1500   \n1     „BetGames“ yra interaktyvių, paprastų ir patra...        Nuo 900   \n2     Jau 5 metus gyvuojantis \"CASK 215\" gastropubas...      1400-2300   \n3     Renkami darbuotojai naujai gamybos linijai!,\\r...       Nuo 1600   \n4     Jūsų kaip CARGLASS® serviso vadovo misija – už...      2000-3000   \n...                                                 ...            ...   \n5316                                                NaN  € 1800 – 2700   \n5317                                                NaN  € 2200 – 3200   \n5318                                                NaN         € 1200   \n5319                                                NaN         € 1452   \n5320                                                NaN         € 2975   \n\n                payment_way  \\\n0     Neatskaičius mokesčių   \n1                  Į rankas   \n2     Neatskaičius mokesčių   \n3     Neatskaičius mokesčių   \n4     Neatskaičius mokesčių   \n...                     ...   \n5316  Neatskaičius mokesčių   \n5317  Neatskaičius mokesčių   \n5318  Neatskaičius mokesčių   \n5319  Neatskaičius mokesčių   \n5320  Neatskaičius mokesčių   \n\n                                                   link     source  \n0     https://www.cvbankas.lt/vireja-as-klaipedoje/1...  CV Bankas  \n1     https://www.cvbankas.lt/studijos-pamainu-vadov...  CV Bankas  \n2     https://www.cvbankas.lt/pamainos-virejo-os-vyr...  CV Bankas  \n3     https://www.cvbankas.lt/pakuotojas-a-kaune/1-8...  CV Bankas  \n4     https://www.cvbankas.lt/carglass-serviso-vadov...  CV Bankas  \n...                                                 ...        ...  \n5316  https://www.cvonline.lt/lt/vacancy/511041/seb-...  CV Online  \n5317  https://www.cvonline.lt/lt/vacancy/511036/seb-...  CV Online  \n5318  https://www.cvonline.lt/lt/vacancy/509050/alli...  CV Online  \n5319  https://www.cvonline.lt/lt/vacancy/471236/alli...  CV Online  \n5320  https://www.cvonline.lt/lt/vacancy/471041/alli...  CV Online  \n\n[24207 rows x 8 columns]",
      "text/html": "<div>\n<style scoped>\n    .dataframe tbody tr th:only-of-type {\n        vertical-align: middle;\n    }\n\n    .dataframe tbody tr th {\n        vertical-align: top;\n    }\n\n    .dataframe thead th {\n        text-align: right;\n    }\n</style>\n<table border=\"1\" class=\"dataframe\">\n  <thead>\n    <tr style=\"text-align: right;\">\n      <th></th>\n      <th>position</th>\n      <th>company</th>\n      <th>city</th>\n      <th>description</th>\n      <th>salary</th>\n      <th>payment_way</th>\n      <th>link</th>\n      <th>source</th>\n    </tr>\n  </thead>\n  <tbody>\n    <tr>\n      <th>0</th>\n      <td>Virėja (-as)</td>\n      <td>UAB „Aramejas“</td>\n      <td>Klaipėda</td>\n      <td>Restoranui \"PEPPER GREY\" nuolatiniam darbui re...</td>\n      <td>1000-1500</td>\n      <td>Neatskaičius mokesčių</td>\n      <td>https://www.cvbankas.lt/vireja-as-klaipedoje/1...</td>\n      <td>CV Bankas</td>\n    </tr>\n    <tr>\n      <th>1</th>\n      <td>Studijos pamainų vadovas (-ė)</td>\n      <td>UAB „TV ŽAIDIMAI“</td>\n      <td>Vilnius</td>\n      <td>„BetGames“ yra interaktyvių, paprastų ir patra...</td>\n      <td>Nuo 900</td>\n      <td>Į rankas</td>\n      <td>https://www.cvbankas.lt/studijos-pamainu-vadov...</td>\n      <td>CV Bankas</td>\n    </tr>\n    <tr>\n      <th>2</th>\n      <td>Pamainos virėjo (-os) - vyr. virėjo (-os) (Net...</td>\n      <td>UAB „Automatizavimo sprendimai“</td>\n      <td>Šiauliai</td>\n      <td>Jau 5 metus gyvuojantis \"CASK 215\" gastropubas...</td>\n      <td>1400-2300</td>\n      <td>Neatskaičius mokesčių</td>\n      <td>https://www.cvbankas.lt/pamainos-virejo-os-vyr...</td>\n      <td>CV Bankas</td>\n    </tr>\n    <tr>\n      <th>3</th>\n      <td>Pakuotojas (-a)</td>\n      <td>UAB „FREDA“</td>\n      <td>Kaunas</td>\n      <td>Renkami darbuotojai naujai gamybos linijai!,\\r...</td>\n      <td>Nuo 1600</td>\n      <td>Neatskaičius mokesčių</td>\n      <td>https://www.cvbankas.lt/pakuotojas-a-kaune/1-8...</td>\n      <td>CV Bankas</td>\n    </tr>\n    <tr>\n      <th>4</th>\n      <td>CARGLASS® Serviso vadovas</td>\n      <td>UAB „Euroglass“</td>\n      <td>Vilnius</td>\n      <td>Jūsų kaip CARGLASS® serviso vadovo misija – už...</td>\n      <td>2000-3000</td>\n      <td>Neatskaičius mokesčių</td>\n      <td>https://www.cvbankas.lt/carglass-serviso-vadov...</td>\n      <td>CV Bankas</td>\n    </tr>\n    <tr>\n      <th>...</th>\n      <td>...</td>\n      <td>...</td>\n      <td>...</td>\n      <td>...</td>\n      <td>...</td>\n      <td>...</td>\n      <td>...</td>\n      <td>...</td>\n    </tr>\n    <tr>\n      <th>5316</th>\n      <td>Client Support Specialist for Electronic Banki...</td>\n      <td>SEB Global Services</td>\n      <td>Vilnius</td>\n      <td>NaN</td>\n      <td>€ 1800 – 2700</td>\n      <td>Neatskaičius mokesčių</td>\n      <td>https://www.cvonline.lt/lt/vacancy/511041/seb-...</td>\n      <td>CV Online</td>\n    </tr>\n    <tr>\n      <th>5317</th>\n      <td>Client Service Manager in Cash Management at S...</td>\n      <td>SEB Global Services</td>\n      <td>Vilnius</td>\n      <td>NaN</td>\n      <td>€ 2200 – 3200</td>\n      <td>Neatskaičius mokesčių</td>\n      <td>https://www.cvonline.lt/lt/vacancy/511036/seb-...</td>\n      <td>CV Online</td>\n    </tr>\n    <tr>\n      <th>5318</th>\n      <td>French Speaking Customer Service Specialist</td>\n      <td>Alliance for Recruitment</td>\n      <td>Vilnius</td>\n      <td>NaN</td>\n      <td>€ 1200</td>\n      <td>Neatskaičius mokesčių</td>\n      <td>https://www.cvonline.lt/lt/vacancy/509050/alli...</td>\n      <td>CV Online</td>\n    </tr>\n    <tr>\n      <th>5319</th>\n      <td>French Speaking Transport Coordinator</td>\n      <td>Alliance for Recruitment</td>\n      <td>Vilnius</td>\n      <td>NaN</td>\n      <td>€ 1452</td>\n      <td>Neatskaičius mokesčių</td>\n      <td>https://www.cvonline.lt/lt/vacancy/471236/alli...</td>\n      <td>CV Online</td>\n    </tr>\n    <tr>\n      <th>5320</th>\n      <td>Head of Customer Success Department</td>\n      <td>Alliance for Recruitment</td>\n      <td>Vilnius</td>\n      <td>NaN</td>\n      <td>€ 2975</td>\n      <td>Neatskaičius mokesčių</td>\n      <td>https://www.cvonline.lt/lt/vacancy/471041/alli...</td>\n      <td>CV Online</td>\n    </tr>\n  </tbody>\n</table>\n<p>24207 rows × 8 columns</p>\n</div>"
     },
     "execution_count": 9,
     "metadata": {},
     "output_type": "execute_result"
    }
   ],
   "source": [
    "dft = dft[dft['position'].notna()]\n",
    "dft = dft[dft['company'].notna()]\n",
    "dft = dft[dft['city'].notna()]\n",
    "dft"
   ],
   "metadata": {
    "collapsed": false,
    "pycharm": {
     "name": "#%%\n"
    }
   }
  },
  {
   "cell_type": "markdown",
   "source": [
    "### Dealing with salary field.\n",
    "Fist of all, I will check what are unique entries to dft['salary'] and dft['payment_way']. The data in 'salary' field contains string with numbers and words. These will need to be converted to integers, also, it contains information about salary range, aka 'salary from' and 'salary to'. I will extract integer-like strings and split it into two columns."
   ],
   "metadata": {
    "collapsed": false
   }
  },
  {
   "cell_type": "code",
   "execution_count": 10,
   "outputs": [
    {
     "data": {
      "text/plain": "0           1000-1500\n1             Nuo 900\n2           1400-2300\n3            Nuo 1600\n4           2000-3000\n            ...      \n5278           € 2835\n5304    € 1900 – 4450\n5308           € 2460\n5312           € 1954\n5319           € 1452\nName: salary, Length: 5429, dtype: object"
     },
     "execution_count": 10,
     "metadata": {},
     "output_type": "execute_result"
    }
   ],
   "source": [
    "dft['salary'].drop_duplicates()"
   ],
   "metadata": {
    "collapsed": false,
    "pycharm": {
     "name": "#%%\n"
    }
   }
  },
  {
   "cell_type": "code",
   "execution_count": 11,
   "outputs": [],
   "source": [
    "dft['salary_from'] = dft.apply(lambda salary: salary_from_str(salary), axis=1)"
   ],
   "metadata": {
    "collapsed": false,
    "pycharm": {
     "name": "#%%\n"
    }
   }
  },
  {
   "cell_type": "code",
   "execution_count": 12,
   "outputs": [],
   "source": [
    "dft['salary_to'] = dft.apply(lambda salary: salary_to_str(salary), axis=1)"
   ],
   "metadata": {
    "collapsed": false,
    "pycharm": {
     "name": "#%%\n"
    }
   }
  },
  {
   "cell_type": "markdown",
   "source": [
    "Successfully converted 'salary' string to two integers, indicating salary from and salary to range. Dropping column 'salary'."
   ],
   "metadata": {
    "collapsed": false
   }
  },
  {
   "cell_type": "code",
   "execution_count": 13,
   "outputs": [],
   "source": [
    "del dft['salary']"
   ],
   "metadata": {
    "collapsed": false,
    "pycharm": {
     "name": "#%%\n"
    }
   }
  },
  {
   "cell_type": "code",
   "execution_count": 14,
   "outputs": [
    {
     "data": {
      "text/plain": "                                               position  \\\n0                                          Virėja (-as)   \n1                         Studijos pamainų vadovas (-ė)   \n2     Pamainos virėjo (-os) - vyr. virėjo (-os) (Net...   \n3                                       Pakuotojas (-a)   \n4                             CARGLASS® Serviso vadovas   \n...                                                 ...   \n5316  Client Support Specialist for Electronic Banki...   \n5317  Client Service Manager in Cash Management at S...   \n5318        French Speaking Customer Service Specialist   \n5319              French Speaking Transport Coordinator   \n5320                Head of Customer Success Department   \n\n                              company      city  \\\n0                      UAB „Aramejas“  Klaipėda   \n1                   UAB „TV ŽAIDIMAI“   Vilnius   \n2     UAB „Automatizavimo sprendimai“  Šiauliai   \n3                         UAB „FREDA“    Kaunas   \n4                     UAB „Euroglass“   Vilnius   \n...                               ...       ...   \n5316              SEB Global Services   Vilnius   \n5317              SEB Global Services   Vilnius   \n5318         Alliance for Recruitment   Vilnius   \n5319         Alliance for Recruitment   Vilnius   \n5320         Alliance for Recruitment   Vilnius   \n\n                                            description  \\\n0     Restoranui \"PEPPER GREY\" nuolatiniam darbui re...   \n1     „BetGames“ yra interaktyvių, paprastų ir patra...   \n2     Jau 5 metus gyvuojantis \"CASK 215\" gastropubas...   \n3     Renkami darbuotojai naujai gamybos linijai!,\\r...   \n4     Jūsų kaip CARGLASS® serviso vadovo misija – už...   \n...                                                 ...   \n5316                                                NaN   \n5317                                                NaN   \n5318                                                NaN   \n5319                                                NaN   \n5320                                                NaN   \n\n                payment_way  \\\n0     Neatskaičius mokesčių   \n1                  Į rankas   \n2     Neatskaičius mokesčių   \n3     Neatskaičius mokesčių   \n4     Neatskaičius mokesčių   \n...                     ...   \n5316  Neatskaičius mokesčių   \n5317  Neatskaičius mokesčių   \n5318  Neatskaičius mokesčių   \n5319  Neatskaičius mokesčių   \n5320  Neatskaičius mokesčių   \n\n                                                   link     source  \\\n0     https://www.cvbankas.lt/vireja-as-klaipedoje/1...  CV Bankas   \n1     https://www.cvbankas.lt/studijos-pamainu-vadov...  CV Bankas   \n2     https://www.cvbankas.lt/pamainos-virejo-os-vyr...  CV Bankas   \n3     https://www.cvbankas.lt/pakuotojas-a-kaune/1-8...  CV Bankas   \n4     https://www.cvbankas.lt/carglass-serviso-vadov...  CV Bankas   \n...                                                 ...        ...   \n5316  https://www.cvonline.lt/lt/vacancy/511041/seb-...  CV Online   \n5317  https://www.cvonline.lt/lt/vacancy/511036/seb-...  CV Online   \n5318  https://www.cvonline.lt/lt/vacancy/509050/alli...  CV Online   \n5319  https://www.cvonline.lt/lt/vacancy/471236/alli...  CV Online   \n5320  https://www.cvonline.lt/lt/vacancy/471041/alli...  CV Online   \n\n      salary_from  salary_to  \n0            1000       1500  \n1             900        900  \n2               5        215  \n3            1600          1  \n4            2000       3000  \n...           ...        ...  \n5316         1800       2700  \n5317         2200       3200  \n5318         1200     509050  \n5319         1452     471236  \n5320         2975     471041  \n\n[24207 rows x 9 columns]",
      "text/html": "<div>\n<style scoped>\n    .dataframe tbody tr th:only-of-type {\n        vertical-align: middle;\n    }\n\n    .dataframe tbody tr th {\n        vertical-align: top;\n    }\n\n    .dataframe thead th {\n        text-align: right;\n    }\n</style>\n<table border=\"1\" class=\"dataframe\">\n  <thead>\n    <tr style=\"text-align: right;\">\n      <th></th>\n      <th>position</th>\n      <th>company</th>\n      <th>city</th>\n      <th>description</th>\n      <th>payment_way</th>\n      <th>link</th>\n      <th>source</th>\n      <th>salary_from</th>\n      <th>salary_to</th>\n    </tr>\n  </thead>\n  <tbody>\n    <tr>\n      <th>0</th>\n      <td>Virėja (-as)</td>\n      <td>UAB „Aramejas“</td>\n      <td>Klaipėda</td>\n      <td>Restoranui \"PEPPER GREY\" nuolatiniam darbui re...</td>\n      <td>Neatskaičius mokesčių</td>\n      <td>https://www.cvbankas.lt/vireja-as-klaipedoje/1...</td>\n      <td>CV Bankas</td>\n      <td>1000</td>\n      <td>1500</td>\n    </tr>\n    <tr>\n      <th>1</th>\n      <td>Studijos pamainų vadovas (-ė)</td>\n      <td>UAB „TV ŽAIDIMAI“</td>\n      <td>Vilnius</td>\n      <td>„BetGames“ yra interaktyvių, paprastų ir patra...</td>\n      <td>Į rankas</td>\n      <td>https://www.cvbankas.lt/studijos-pamainu-vadov...</td>\n      <td>CV Bankas</td>\n      <td>900</td>\n      <td>900</td>\n    </tr>\n    <tr>\n      <th>2</th>\n      <td>Pamainos virėjo (-os) - vyr. virėjo (-os) (Net...</td>\n      <td>UAB „Automatizavimo sprendimai“</td>\n      <td>Šiauliai</td>\n      <td>Jau 5 metus gyvuojantis \"CASK 215\" gastropubas...</td>\n      <td>Neatskaičius mokesčių</td>\n      <td>https://www.cvbankas.lt/pamainos-virejo-os-vyr...</td>\n      <td>CV Bankas</td>\n      <td>5</td>\n      <td>215</td>\n    </tr>\n    <tr>\n      <th>3</th>\n      <td>Pakuotojas (-a)</td>\n      <td>UAB „FREDA“</td>\n      <td>Kaunas</td>\n      <td>Renkami darbuotojai naujai gamybos linijai!,\\r...</td>\n      <td>Neatskaičius mokesčių</td>\n      <td>https://www.cvbankas.lt/pakuotojas-a-kaune/1-8...</td>\n      <td>CV Bankas</td>\n      <td>1600</td>\n      <td>1</td>\n    </tr>\n    <tr>\n      <th>4</th>\n      <td>CARGLASS® Serviso vadovas</td>\n      <td>UAB „Euroglass“</td>\n      <td>Vilnius</td>\n      <td>Jūsų kaip CARGLASS® serviso vadovo misija – už...</td>\n      <td>Neatskaičius mokesčių</td>\n      <td>https://www.cvbankas.lt/carglass-serviso-vadov...</td>\n      <td>CV Bankas</td>\n      <td>2000</td>\n      <td>3000</td>\n    </tr>\n    <tr>\n      <th>...</th>\n      <td>...</td>\n      <td>...</td>\n      <td>...</td>\n      <td>...</td>\n      <td>...</td>\n      <td>...</td>\n      <td>...</td>\n      <td>...</td>\n      <td>...</td>\n    </tr>\n    <tr>\n      <th>5316</th>\n      <td>Client Support Specialist for Electronic Banki...</td>\n      <td>SEB Global Services</td>\n      <td>Vilnius</td>\n      <td>NaN</td>\n      <td>Neatskaičius mokesčių</td>\n      <td>https://www.cvonline.lt/lt/vacancy/511041/seb-...</td>\n      <td>CV Online</td>\n      <td>1800</td>\n      <td>2700</td>\n    </tr>\n    <tr>\n      <th>5317</th>\n      <td>Client Service Manager in Cash Management at S...</td>\n      <td>SEB Global Services</td>\n      <td>Vilnius</td>\n      <td>NaN</td>\n      <td>Neatskaičius mokesčių</td>\n      <td>https://www.cvonline.lt/lt/vacancy/511036/seb-...</td>\n      <td>CV Online</td>\n      <td>2200</td>\n      <td>3200</td>\n    </tr>\n    <tr>\n      <th>5318</th>\n      <td>French Speaking Customer Service Specialist</td>\n      <td>Alliance for Recruitment</td>\n      <td>Vilnius</td>\n      <td>NaN</td>\n      <td>Neatskaičius mokesčių</td>\n      <td>https://www.cvonline.lt/lt/vacancy/509050/alli...</td>\n      <td>CV Online</td>\n      <td>1200</td>\n      <td>509050</td>\n    </tr>\n    <tr>\n      <th>5319</th>\n      <td>French Speaking Transport Coordinator</td>\n      <td>Alliance for Recruitment</td>\n      <td>Vilnius</td>\n      <td>NaN</td>\n      <td>Neatskaičius mokesčių</td>\n      <td>https://www.cvonline.lt/lt/vacancy/471236/alli...</td>\n      <td>CV Online</td>\n      <td>1452</td>\n      <td>471236</td>\n    </tr>\n    <tr>\n      <th>5320</th>\n      <td>Head of Customer Success Department</td>\n      <td>Alliance for Recruitment</td>\n      <td>Vilnius</td>\n      <td>NaN</td>\n      <td>Neatskaičius mokesčių</td>\n      <td>https://www.cvonline.lt/lt/vacancy/471041/alli...</td>\n      <td>CV Online</td>\n      <td>2975</td>\n      <td>471041</td>\n    </tr>\n  </tbody>\n</table>\n<p>24207 rows × 9 columns</p>\n</div>"
     },
     "execution_count": 14,
     "metadata": {},
     "output_type": "execute_result"
    }
   ],
   "source": [
    "dft"
   ],
   "metadata": {
    "collapsed": false,
    "pycharm": {
     "name": "#%%\n"
    }
   }
  },
  {
   "cell_type": "markdown",
   "source": [
    "Next up, salaries are indicated in a various ways, with a different keywords to indicate if taxes are deducted or not. First, I will deal with keywords and after write a function to convert all salaries to amount after tax."
   ],
   "metadata": {
    "collapsed": false,
    "pycharm": {
     "name": "#%% md\n"
    }
   }
  },
  {
   "cell_type": "code",
   "execution_count": 15,
   "outputs": [],
   "source": [
    "dft['payment_way'] = dft['payment_way'].str.lower()\n"
   ],
   "metadata": {
    "collapsed": false,
    "pycharm": {
     "name": "#%%\n"
    }
   }
  },
  {
   "cell_type": "markdown",
   "source": [
    "This is quite a challenge, we have 232 rows of variuos payment descriptions where we need only three values: before_tax, after_tax, and no_salary_indicated. I will use regular expressions' ad write a function to catch those cases."
   ],
   "metadata": {
    "collapsed": false,
    "pycharm": {
     "name": "#%% md\n"
    }
   }
  },
  {
   "cell_type": "code",
   "execution_count": 16,
   "outputs": [],
   "source": [
    "filt = dft['payment_way'].str.contains('(?:neats|gross|pirms|before|до уплаты)', na=False) #Find rows with some value in column\n",
    "dft.loc[filt, 'payment_way'] = 'before_tax'"
   ],
   "metadata": {
    "collapsed": false,
    "pycharm": {
     "name": "#%%\n"
    }
   }
  },
  {
   "cell_type": "code",
   "execution_count": 17,
   "outputs": [],
   "source": [
    "filt = dft['payment_way'].str.contains('(?:atskaičius|net|pec|pēc|after|rankas|после уплаты)', na=False) #Find rows with some value in column\n",
    "dft.loc[filt, 'payment_way'] = 'after_tax'"
   ],
   "metadata": {
    "collapsed": false,
    "pycharm": {
     "name": "#%%\n"
    }
   }
  },
  {
   "cell_type": "code",
   "execution_count": 18,
   "outputs": [],
   "source": [
    "filt = dft['payment_way'].isnull()\n",
    "dft.loc[filt, 'payment_way']  = 'no_salary_indicated'"
   ],
   "metadata": {
    "collapsed": false,
    "pycharm": {
     "name": "#%%\n"
    }
   }
  },
  {
   "cell_type": "code",
   "execution_count": 19,
   "outputs": [
    {
     "data": {
      "text/plain": "array(['before_tax', 'after_tax', 'no_salary_indicated'], dtype=object)"
     },
     "execution_count": 19,
     "metadata": {},
     "output_type": "execute_result"
    }
   ],
   "source": [
    "dft['payment_way'].unique()"
   ],
   "metadata": {
    "collapsed": false,
    "pycharm": {
     "name": "#%%\n"
    }
   }
  },
  {
   "cell_type": "markdown",
   "source": [
    "### Custom functions for tax calculations\n",
    "After dealing with this column, I can proceed to calculating salaries to after tax."
   ],
   "metadata": {
    "collapsed": false,
    "pycharm": {
     "name": "#%% md\n"
    }
   }
  },
  {
   "cell_type": "code",
   "execution_count": 20,
   "outputs": [],
   "source": [
    "dft['salary_from_at'] = dft['salary_from'].apply(lambda salary_from: salary_after_tax(salary_from))\n",
    "dft['salary_to_at'] = dft['salary_to'].apply(lambda salary_to: salary_after_tax(salary_to))\n",
    "del dft['salary_from']\n",
    "del dft['salary_to']\n",
    "del dft['payment_way']\n",
    "\n",
    "dft.rename(columns={'salary_to_at': 'salary_to', 'salary_from_at': 'salary_from'}, inplace=True)"
   ],
   "metadata": {
    "collapsed": false,
    "pycharm": {
     "name": "#%%\n"
    }
   }
  },
  {
   "cell_type": "code",
   "execution_count": 21,
   "outputs": [
    {
     "data": {
      "text/plain": "                                               position  \\\n0                                          Virėja (-as)   \n1                         Studijos pamainų vadovas (-ė)   \n2     Pamainos virėjo (-os) - vyr. virėjo (-os) (Net...   \n3                                       Pakuotojas (-a)   \n4                             CARGLASS® Serviso vadovas   \n...                                                 ...   \n5316  Client Support Specialist for Electronic Banki...   \n5317  Client Service Manager in Cash Management at S...   \n5318        French Speaking Customer Service Specialist   \n5319              French Speaking Transport Coordinator   \n5320                Head of Customer Success Department   \n\n                              company      city  \\\n0                      UAB „Aramejas“  Klaipėda   \n1                   UAB „TV ŽAIDIMAI“   Vilnius   \n2     UAB „Automatizavimo sprendimai“  Šiauliai   \n3                         UAB „FREDA“    Kaunas   \n4                     UAB „Euroglass“   Vilnius   \n...                               ...       ...   \n5316              SEB Global Services   Vilnius   \n5317              SEB Global Services   Vilnius   \n5318         Alliance for Recruitment   Vilnius   \n5319         Alliance for Recruitment   Vilnius   \n5320         Alliance for Recruitment   Vilnius   \n\n                                            description  \\\n0     Restoranui \"PEPPER GREY\" nuolatiniam darbui re...   \n1     „BetGames“ yra interaktyvių, paprastų ir patra...   \n2     Jau 5 metus gyvuojantis \"CASK 215\" gastropubas...   \n3     Renkami darbuotojai naujai gamybos linijai!,\\r...   \n4     Jūsų kaip CARGLASS® serviso vadovo misija – už...   \n...                                                 ...   \n5316                                                NaN   \n5317                                                NaN   \n5318                                                NaN   \n5319                                                NaN   \n5320                                                NaN   \n\n                                                   link     source  \\\n0     https://www.cvbankas.lt/vireja-as-klaipedoje/1...  CV Bankas   \n1     https://www.cvbankas.lt/studijos-pamainu-vadov...  CV Bankas   \n2     https://www.cvbankas.lt/pamainos-virejo-os-vyr...  CV Bankas   \n3     https://www.cvbankas.lt/pakuotojas-a-kaune/1-8...  CV Bankas   \n4     https://www.cvbankas.lt/carglass-serviso-vadov...  CV Bankas   \n...                                                 ...        ...   \n5316  https://www.cvonline.lt/lt/vacancy/511041/seb-...  CV Online   \n5317  https://www.cvonline.lt/lt/vacancy/511036/seb-...  CV Online   \n5318  https://www.cvonline.lt/lt/vacancy/509050/alli...  CV Online   \n5319  https://www.cvonline.lt/lt/vacancy/471236/alli...  CV Online   \n5320  https://www.cvonline.lt/lt/vacancy/471041/alli...  CV Online   \n\n      salary_from  salary_to  \n0             711       1040  \n1             645        645  \n2              95        222  \n3            1105         93  \n4            1339       1980  \n...           ...        ...  \n5316         1211       1788  \n5317         1467       2108  \n5318          842     326358  \n5319         1008     302119  \n5320         1964     301994  \n\n[24207 rows x 8 columns]",
      "text/html": "<div>\n<style scoped>\n    .dataframe tbody tr th:only-of-type {\n        vertical-align: middle;\n    }\n\n    .dataframe tbody tr th {\n        vertical-align: top;\n    }\n\n    .dataframe thead th {\n        text-align: right;\n    }\n</style>\n<table border=\"1\" class=\"dataframe\">\n  <thead>\n    <tr style=\"text-align: right;\">\n      <th></th>\n      <th>position</th>\n      <th>company</th>\n      <th>city</th>\n      <th>description</th>\n      <th>link</th>\n      <th>source</th>\n      <th>salary_from</th>\n      <th>salary_to</th>\n    </tr>\n  </thead>\n  <tbody>\n    <tr>\n      <th>0</th>\n      <td>Virėja (-as)</td>\n      <td>UAB „Aramejas“</td>\n      <td>Klaipėda</td>\n      <td>Restoranui \"PEPPER GREY\" nuolatiniam darbui re...</td>\n      <td>https://www.cvbankas.lt/vireja-as-klaipedoje/1...</td>\n      <td>CV Bankas</td>\n      <td>711</td>\n      <td>1040</td>\n    </tr>\n    <tr>\n      <th>1</th>\n      <td>Studijos pamainų vadovas (-ė)</td>\n      <td>UAB „TV ŽAIDIMAI“</td>\n      <td>Vilnius</td>\n      <td>„BetGames“ yra interaktyvių, paprastų ir patra...</td>\n      <td>https://www.cvbankas.lt/studijos-pamainu-vadov...</td>\n      <td>CV Bankas</td>\n      <td>645</td>\n      <td>645</td>\n    </tr>\n    <tr>\n      <th>2</th>\n      <td>Pamainos virėjo (-os) - vyr. virėjo (-os) (Net...</td>\n      <td>UAB „Automatizavimo sprendimai“</td>\n      <td>Šiauliai</td>\n      <td>Jau 5 metus gyvuojantis \"CASK 215\" gastropubas...</td>\n      <td>https://www.cvbankas.lt/pamainos-virejo-os-vyr...</td>\n      <td>CV Bankas</td>\n      <td>95</td>\n      <td>222</td>\n    </tr>\n    <tr>\n      <th>3</th>\n      <td>Pakuotojas (-a)</td>\n      <td>UAB „FREDA“</td>\n      <td>Kaunas</td>\n      <td>Renkami darbuotojai naujai gamybos linijai!,\\r...</td>\n      <td>https://www.cvbankas.lt/pakuotojas-a-kaune/1-8...</td>\n      <td>CV Bankas</td>\n      <td>1105</td>\n      <td>93</td>\n    </tr>\n    <tr>\n      <th>4</th>\n      <td>CARGLASS® Serviso vadovas</td>\n      <td>UAB „Euroglass“</td>\n      <td>Vilnius</td>\n      <td>Jūsų kaip CARGLASS® serviso vadovo misija – už...</td>\n      <td>https://www.cvbankas.lt/carglass-serviso-vadov...</td>\n      <td>CV Bankas</td>\n      <td>1339</td>\n      <td>1980</td>\n    </tr>\n    <tr>\n      <th>...</th>\n      <td>...</td>\n      <td>...</td>\n      <td>...</td>\n      <td>...</td>\n      <td>...</td>\n      <td>...</td>\n      <td>...</td>\n      <td>...</td>\n    </tr>\n    <tr>\n      <th>5316</th>\n      <td>Client Support Specialist for Electronic Banki...</td>\n      <td>SEB Global Services</td>\n      <td>Vilnius</td>\n      <td>NaN</td>\n      <td>https://www.cvonline.lt/lt/vacancy/511041/seb-...</td>\n      <td>CV Online</td>\n      <td>1211</td>\n      <td>1788</td>\n    </tr>\n    <tr>\n      <th>5317</th>\n      <td>Client Service Manager in Cash Management at S...</td>\n      <td>SEB Global Services</td>\n      <td>Vilnius</td>\n      <td>NaN</td>\n      <td>https://www.cvonline.lt/lt/vacancy/511036/seb-...</td>\n      <td>CV Online</td>\n      <td>1467</td>\n      <td>2108</td>\n    </tr>\n    <tr>\n      <th>5318</th>\n      <td>French Speaking Customer Service Specialist</td>\n      <td>Alliance for Recruitment</td>\n      <td>Vilnius</td>\n      <td>NaN</td>\n      <td>https://www.cvonline.lt/lt/vacancy/509050/alli...</td>\n      <td>CV Online</td>\n      <td>842</td>\n      <td>326358</td>\n    </tr>\n    <tr>\n      <th>5319</th>\n      <td>French Speaking Transport Coordinator</td>\n      <td>Alliance for Recruitment</td>\n      <td>Vilnius</td>\n      <td>NaN</td>\n      <td>https://www.cvonline.lt/lt/vacancy/471236/alli...</td>\n      <td>CV Online</td>\n      <td>1008</td>\n      <td>302119</td>\n    </tr>\n    <tr>\n      <th>5320</th>\n      <td>Head of Customer Success Department</td>\n      <td>Alliance for Recruitment</td>\n      <td>Vilnius</td>\n      <td>NaN</td>\n      <td>https://www.cvonline.lt/lt/vacancy/471041/alli...</td>\n      <td>CV Online</td>\n      <td>1964</td>\n      <td>301994</td>\n    </tr>\n  </tbody>\n</table>\n<p>24207 rows × 8 columns</p>\n</div>"
     },
     "execution_count": 21,
     "metadata": {},
     "output_type": "execute_result"
    }
   ],
   "source": [
    "dft"
   ],
   "metadata": {
    "collapsed": false,
    "pycharm": {
     "name": "#%%\n"
    }
   }
  },
  {
   "cell_type": "markdown",
   "source": [
    "After salary columns are finished, next up description column. There are many strings, spaces and lots of dirty data. I will leave as it is and will use this column only for free search, without displaying it to end user."
   ],
   "metadata": {
    "collapsed": false,
    "pycharm": {
     "name": "#%% md\n"
    }
   }
  },
  {
   "cell_type": "code",
   "execution_count": 22,
   "outputs": [
    {
     "data": {
      "text/plain": "                                               position  \\\n393                     Financial Data Analyst (Hybrid)   \n798                                       Data Engineer   \n1152                                Growth Data Analyst   \n1509   Business Data Analyst (Excel - VBA) -Real Assets   \n1795                                      Data Engineer   \n...                                                 ...   \n5105  Data Analyst in Sanctions Screening Continuous...   \n5187                            Senior Data Tester (QA)   \n5192                Data Scientist in Group Impairments   \n5242       Senior Data Scientist for Advanced Analytics   \n5250  Data engineer with a DevOps aptitude in Global...   \n\n                                             company     city  \\\n393                  UAB „BALTIC VIRTUAL ASSISTANTS“  Vilnius   \n798   UAB „Cognizant Technology Solutions Lithuania“  Vilnius   \n1152                                       Surfshark  Vilnius   \n1509                        Citco Group of Companies  Vilnius   \n1795                                       CyberCare  Vilnius   \n...                                              ...      ...   \n5105                           Danske Bank Lithuania  Vilnius   \n5187                        Alliance for Recruitment  Vilnius   \n5192                           Danske Bank Lithuania  Vilnius   \n5242                           Danske Bank Lithuania  Vilnius   \n5250                           Danske Bank Lithuania  Vilnius   \n\n                                            description  \\\n393   We are Baltic Assist – the Lithuanian outsourc...   \n798   Our Client is a leading player in the Nordic m...   \n1152  We’re looking for someone ready to join our te...   \n1509  About Citco,\\r\\n,\\r\\nCitco is a global leader ...   \n1795  Data engineer, unleash your potential! You wil...   \n...                                                 ...   \n5105                                                NaN   \n5187                                                NaN   \n5192                                                NaN   \n5242                                                NaN   \n5250                                                NaN   \n\n                                                   link     source  \\\n393   https://www.cvbankas.lt/financial-data-analyst...  CV Bankas   \n798   https://www.cvbankas.lt/data-engineer-vilniuje...  CV Bankas   \n1152  https://www.cvbankas.lt/growth-data-analyst-vi...  CV Bankas   \n1509  https://www.cvbankas.lt/business-data-analyst-...  CV Bankas   \n1795  https://www.cvbankas.lt/data-engineer-vilniuje...  CV Bankas   \n...                                                 ...        ...   \n5105  https://www.cvonline.lt/lt/vacancy/684652/dans...  CV Online   \n5187  https://www.cvonline.lt/lt/vacancy/666401/alli...  CV Online   \n5192  https://www.cvonline.lt/lt/vacancy/663972/dans...  CV Online   \n5242  https://www.cvonline.lt/lt/vacancy/626803/dans...  CV Online   \n5250  https://www.cvonline.lt/lt/vacancy/618305/dans...  CV Online   \n\n      salary_from  salary_to  \n393           842       1072  \n798          1339       2300  \n1152         1659       2493  \n1509         1659       1916  \n1795         1307       1964  \n...           ...        ...  \n5105         1185       1749  \n5187         2364     427220  \n5192         1493       2211  \n5242         1954       2903  \n5250         1954       2903  \n\n[140 rows x 8 columns]",
      "text/html": "<div>\n<style scoped>\n    .dataframe tbody tr th:only-of-type {\n        vertical-align: middle;\n    }\n\n    .dataframe tbody tr th {\n        vertical-align: top;\n    }\n\n    .dataframe thead th {\n        text-align: right;\n    }\n</style>\n<table border=\"1\" class=\"dataframe\">\n  <thead>\n    <tr style=\"text-align: right;\">\n      <th></th>\n      <th>position</th>\n      <th>company</th>\n      <th>city</th>\n      <th>description</th>\n      <th>link</th>\n      <th>source</th>\n      <th>salary_from</th>\n      <th>salary_to</th>\n    </tr>\n  </thead>\n  <tbody>\n    <tr>\n      <th>393</th>\n      <td>Financial Data Analyst (Hybrid)</td>\n      <td>UAB „BALTIC VIRTUAL ASSISTANTS“</td>\n      <td>Vilnius</td>\n      <td>We are Baltic Assist – the Lithuanian outsourc...</td>\n      <td>https://www.cvbankas.lt/financial-data-analyst...</td>\n      <td>CV Bankas</td>\n      <td>842</td>\n      <td>1072</td>\n    </tr>\n    <tr>\n      <th>798</th>\n      <td>Data Engineer</td>\n      <td>UAB „Cognizant Technology Solutions Lithuania“</td>\n      <td>Vilnius</td>\n      <td>Our Client is a leading player in the Nordic m...</td>\n      <td>https://www.cvbankas.lt/data-engineer-vilniuje...</td>\n      <td>CV Bankas</td>\n      <td>1339</td>\n      <td>2300</td>\n    </tr>\n    <tr>\n      <th>1152</th>\n      <td>Growth Data Analyst</td>\n      <td>Surfshark</td>\n      <td>Vilnius</td>\n      <td>We’re looking for someone ready to join our te...</td>\n      <td>https://www.cvbankas.lt/growth-data-analyst-vi...</td>\n      <td>CV Bankas</td>\n      <td>1659</td>\n      <td>2493</td>\n    </tr>\n    <tr>\n      <th>1509</th>\n      <td>Business Data Analyst (Excel - VBA) -Real Assets</td>\n      <td>Citco Group of Companies</td>\n      <td>Vilnius</td>\n      <td>About Citco,\\r\\n,\\r\\nCitco is a global leader ...</td>\n      <td>https://www.cvbankas.lt/business-data-analyst-...</td>\n      <td>CV Bankas</td>\n      <td>1659</td>\n      <td>1916</td>\n    </tr>\n    <tr>\n      <th>1795</th>\n      <td>Data Engineer</td>\n      <td>CyberCare</td>\n      <td>Vilnius</td>\n      <td>Data engineer, unleash your potential! You wil...</td>\n      <td>https://www.cvbankas.lt/data-engineer-vilniuje...</td>\n      <td>CV Bankas</td>\n      <td>1307</td>\n      <td>1964</td>\n    </tr>\n    <tr>\n      <th>...</th>\n      <td>...</td>\n      <td>...</td>\n      <td>...</td>\n      <td>...</td>\n      <td>...</td>\n      <td>...</td>\n      <td>...</td>\n      <td>...</td>\n    </tr>\n    <tr>\n      <th>5105</th>\n      <td>Data Analyst in Sanctions Screening Continuous...</td>\n      <td>Danske Bank Lithuania</td>\n      <td>Vilnius</td>\n      <td>NaN</td>\n      <td>https://www.cvonline.lt/lt/vacancy/684652/dans...</td>\n      <td>CV Online</td>\n      <td>1185</td>\n      <td>1749</td>\n    </tr>\n    <tr>\n      <th>5187</th>\n      <td>Senior Data Tester (QA)</td>\n      <td>Alliance for Recruitment</td>\n      <td>Vilnius</td>\n      <td>NaN</td>\n      <td>https://www.cvonline.lt/lt/vacancy/666401/alli...</td>\n      <td>CV Online</td>\n      <td>2364</td>\n      <td>427220</td>\n    </tr>\n    <tr>\n      <th>5192</th>\n      <td>Data Scientist in Group Impairments</td>\n      <td>Danske Bank Lithuania</td>\n      <td>Vilnius</td>\n      <td>NaN</td>\n      <td>https://www.cvonline.lt/lt/vacancy/663972/dans...</td>\n      <td>CV Online</td>\n      <td>1493</td>\n      <td>2211</td>\n    </tr>\n    <tr>\n      <th>5242</th>\n      <td>Senior Data Scientist for Advanced Analytics</td>\n      <td>Danske Bank Lithuania</td>\n      <td>Vilnius</td>\n      <td>NaN</td>\n      <td>https://www.cvonline.lt/lt/vacancy/626803/dans...</td>\n      <td>CV Online</td>\n      <td>1954</td>\n      <td>2903</td>\n    </tr>\n    <tr>\n      <th>5250</th>\n      <td>Data engineer with a DevOps aptitude in Global...</td>\n      <td>Danske Bank Lithuania</td>\n      <td>Vilnius</td>\n      <td>NaN</td>\n      <td>https://www.cvonline.lt/lt/vacancy/618305/dans...</td>\n      <td>CV Online</td>\n      <td>1954</td>\n      <td>2903</td>\n    </tr>\n  </tbody>\n</table>\n<p>140 rows × 8 columns</p>\n</div>"
     },
     "execution_count": 22,
     "metadata": {},
     "output_type": "execute_result"
    }
   ],
   "source": [
    "filt = dft['position'].str.contains('Data', na=False) & dft['city'].str.contains('Viln', na=False)\n",
    "dft.loc[filt]"
   ],
   "metadata": {
    "collapsed": false,
    "pycharm": {
     "name": "#%%\n"
    }
   }
  },
  {
   "cell_type": "markdown",
   "source": [
    "### Final corrections\n",
    "Before proceeding to export, I will check consistency of data types, to avoid errors in sql database."
   ],
   "metadata": {
    "collapsed": false,
    "pycharm": {
     "name": "#%% md\n"
    }
   }
  },
  {
   "cell_type": "code",
   "execution_count": 23,
   "outputs": [
    {
     "data": {
      "text/plain": "Index(['position', 'company', 'city', 'description', 'link', 'source',\n       'salary_from', 'salary_to'],\n      dtype='object')"
     },
     "execution_count": 23,
     "metadata": {},
     "output_type": "execute_result"
    }
   ],
   "source": [
    "dft.columns"
   ],
   "metadata": {
    "collapsed": false,
    "pycharm": {
     "name": "#%%\n"
    }
   }
  },
  {
   "cell_type": "code",
   "execution_count": 24,
   "outputs": [
    {
     "data": {
      "text/plain": "                                               position  \\\n0                                          Virėja (-as)   \n1                         Studijos pamainų vadovas (-ė)   \n2     Pamainos virėjo (-os) - vyr. virėjo (-os) (Net...   \n3                                       Pakuotojas (-a)   \n4                             CARGLASS® Serviso vadovas   \n...                                                 ...   \n5316  Client Support Specialist for Electronic Banki...   \n5317  Client Service Manager in Cash Management at S...   \n5318        French Speaking Customer Service Specialist   \n5319              French Speaking Transport Coordinator   \n5320                Head of Customer Success Department   \n\n                              company      city  \\\n0                      UAB „Aramejas“  Klaipėda   \n1                   UAB „TV ŽAIDIMAI“   Vilnius   \n2     UAB „Automatizavimo sprendimai“  Šiauliai   \n3                         UAB „FREDA“    Kaunas   \n4                     UAB „Euroglass“   Vilnius   \n...                               ...       ...   \n5316              SEB Global Services   Vilnius   \n5317              SEB Global Services   Vilnius   \n5318         Alliance for Recruitment   Vilnius   \n5319         Alliance for Recruitment   Vilnius   \n5320         Alliance for Recruitment   Vilnius   \n\n                                            description  \\\n0     Restoranui \"PEPPER GREY\" nuolatiniam darbui re...   \n1     „BetGames“ yra interaktyvių, paprastų ir patra...   \n2     Jau 5 metus gyvuojantis \"CASK 215\" gastropubas...   \n3     Renkami darbuotojai naujai gamybos linijai!,\\r...   \n4     Jūsų kaip CARGLASS® serviso vadovo misija – už...   \n...                                                 ...   \n5316                                                NaN   \n5317                                                NaN   \n5318                                                NaN   \n5319                                                NaN   \n5320                                                NaN   \n\n                                                   link     source  \\\n0     https://www.cvbankas.lt/vireja-as-klaipedoje/1...  CV Bankas   \n1     https://www.cvbankas.lt/studijos-pamainu-vadov...  CV Bankas   \n2     https://www.cvbankas.lt/pamainos-virejo-os-vyr...  CV Bankas   \n3     https://www.cvbankas.lt/pakuotojas-a-kaune/1-8...  CV Bankas   \n4     https://www.cvbankas.lt/carglass-serviso-vadov...  CV Bankas   \n...                                                 ...        ...   \n5316  https://www.cvonline.lt/lt/vacancy/511041/seb-...  CV Online   \n5317  https://www.cvonline.lt/lt/vacancy/511036/seb-...  CV Online   \n5318  https://www.cvonline.lt/lt/vacancy/509050/alli...  CV Online   \n5319  https://www.cvonline.lt/lt/vacancy/471236/alli...  CV Online   \n5320  https://www.cvonline.lt/lt/vacancy/471041/alli...  CV Online   \n\n      salary_from  salary_to  \n0             711       1040  \n1             645        645  \n2              95        222  \n3            1105         93  \n4            1339       1980  \n...           ...        ...  \n5316         1211       1788  \n5317         1467       2108  \n5318          842     326358  \n5319         1008     302119  \n5320         1964     301994  \n\n[24207 rows x 8 columns]",
      "text/html": "<div>\n<style scoped>\n    .dataframe tbody tr th:only-of-type {\n        vertical-align: middle;\n    }\n\n    .dataframe tbody tr th {\n        vertical-align: top;\n    }\n\n    .dataframe thead th {\n        text-align: right;\n    }\n</style>\n<table border=\"1\" class=\"dataframe\">\n  <thead>\n    <tr style=\"text-align: right;\">\n      <th></th>\n      <th>position</th>\n      <th>company</th>\n      <th>city</th>\n      <th>description</th>\n      <th>link</th>\n      <th>source</th>\n      <th>salary_from</th>\n      <th>salary_to</th>\n    </tr>\n  </thead>\n  <tbody>\n    <tr>\n      <th>0</th>\n      <td>Virėja (-as)</td>\n      <td>UAB „Aramejas“</td>\n      <td>Klaipėda</td>\n      <td>Restoranui \"PEPPER GREY\" nuolatiniam darbui re...</td>\n      <td>https://www.cvbankas.lt/vireja-as-klaipedoje/1...</td>\n      <td>CV Bankas</td>\n      <td>711</td>\n      <td>1040</td>\n    </tr>\n    <tr>\n      <th>1</th>\n      <td>Studijos pamainų vadovas (-ė)</td>\n      <td>UAB „TV ŽAIDIMAI“</td>\n      <td>Vilnius</td>\n      <td>„BetGames“ yra interaktyvių, paprastų ir patra...</td>\n      <td>https://www.cvbankas.lt/studijos-pamainu-vadov...</td>\n      <td>CV Bankas</td>\n      <td>645</td>\n      <td>645</td>\n    </tr>\n    <tr>\n      <th>2</th>\n      <td>Pamainos virėjo (-os) - vyr. virėjo (-os) (Net...</td>\n      <td>UAB „Automatizavimo sprendimai“</td>\n      <td>Šiauliai</td>\n      <td>Jau 5 metus gyvuojantis \"CASK 215\" gastropubas...</td>\n      <td>https://www.cvbankas.lt/pamainos-virejo-os-vyr...</td>\n      <td>CV Bankas</td>\n      <td>95</td>\n      <td>222</td>\n    </tr>\n    <tr>\n      <th>3</th>\n      <td>Pakuotojas (-a)</td>\n      <td>UAB „FREDA“</td>\n      <td>Kaunas</td>\n      <td>Renkami darbuotojai naujai gamybos linijai!,\\r...</td>\n      <td>https://www.cvbankas.lt/pakuotojas-a-kaune/1-8...</td>\n      <td>CV Bankas</td>\n      <td>1105</td>\n      <td>93</td>\n    </tr>\n    <tr>\n      <th>4</th>\n      <td>CARGLASS® Serviso vadovas</td>\n      <td>UAB „Euroglass“</td>\n      <td>Vilnius</td>\n      <td>Jūsų kaip CARGLASS® serviso vadovo misija – už...</td>\n      <td>https://www.cvbankas.lt/carglass-serviso-vadov...</td>\n      <td>CV Bankas</td>\n      <td>1339</td>\n      <td>1980</td>\n    </tr>\n    <tr>\n      <th>...</th>\n      <td>...</td>\n      <td>...</td>\n      <td>...</td>\n      <td>...</td>\n      <td>...</td>\n      <td>...</td>\n      <td>...</td>\n      <td>...</td>\n    </tr>\n    <tr>\n      <th>5316</th>\n      <td>Client Support Specialist for Electronic Banki...</td>\n      <td>SEB Global Services</td>\n      <td>Vilnius</td>\n      <td>NaN</td>\n      <td>https://www.cvonline.lt/lt/vacancy/511041/seb-...</td>\n      <td>CV Online</td>\n      <td>1211</td>\n      <td>1788</td>\n    </tr>\n    <tr>\n      <th>5317</th>\n      <td>Client Service Manager in Cash Management at S...</td>\n      <td>SEB Global Services</td>\n      <td>Vilnius</td>\n      <td>NaN</td>\n      <td>https://www.cvonline.lt/lt/vacancy/511036/seb-...</td>\n      <td>CV Online</td>\n      <td>1467</td>\n      <td>2108</td>\n    </tr>\n    <tr>\n      <th>5318</th>\n      <td>French Speaking Customer Service Specialist</td>\n      <td>Alliance for Recruitment</td>\n      <td>Vilnius</td>\n      <td>NaN</td>\n      <td>https://www.cvonline.lt/lt/vacancy/509050/alli...</td>\n      <td>CV Online</td>\n      <td>842</td>\n      <td>326358</td>\n    </tr>\n    <tr>\n      <th>5319</th>\n      <td>French Speaking Transport Coordinator</td>\n      <td>Alliance for Recruitment</td>\n      <td>Vilnius</td>\n      <td>NaN</td>\n      <td>https://www.cvonline.lt/lt/vacancy/471236/alli...</td>\n      <td>CV Online</td>\n      <td>1008</td>\n      <td>302119</td>\n    </tr>\n    <tr>\n      <th>5320</th>\n      <td>Head of Customer Success Department</td>\n      <td>Alliance for Recruitment</td>\n      <td>Vilnius</td>\n      <td>NaN</td>\n      <td>https://www.cvonline.lt/lt/vacancy/471041/alli...</td>\n      <td>CV Online</td>\n      <td>1964</td>\n      <td>301994</td>\n    </tr>\n  </tbody>\n</table>\n<p>24207 rows × 8 columns</p>\n</div>"
     },
     "execution_count": 24,
     "metadata": {},
     "output_type": "execute_result"
    }
   ],
   "source": [
    "dft[\"salary_to\"] =pd.to_numeric(dft[\"salary_to\"])\n",
    "dft[\"salary_from\"] =pd.to_numeric(dft[\"salary_from\"])\n",
    "dft"
   ],
   "metadata": {
    "collapsed": false,
    "pycharm": {
     "name": "#%%\n"
    }
   }
  },
  {
   "cell_type": "code",
   "execution_count": 26,
   "outputs": [],
   "source": [
    "dft.to_csv('jobboardsraw.scv')"
   ],
   "metadata": {
    "collapsed": false,
    "pycharm": {
     "name": "#%%\n"
    }
   }
  }
 ],
 "metadata": {
  "kernelspec": {
   "display_name": "Python 3",
   "language": "python",
   "name": "python3"
  },
  "language_info": {
   "codemirror_mode": {
    "name": "ipython",
    "version": 2
   },
   "file_extension": ".py",
   "mimetype": "text/x-python",
   "name": "python",
   "nbconvert_exporter": "python",
   "pygments_lexer": "ipython2",
   "version": "2.7.6"
  }
 },
 "nbformat": 4,
 "nbformat_minor": 0
}